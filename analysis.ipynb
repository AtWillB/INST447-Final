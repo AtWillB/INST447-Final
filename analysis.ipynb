{
 "cells": [
  {
   "cell_type": "code",
   "execution_count": 2,
   "metadata": {},
   "outputs": [],
   "source": [
    "import pandas as pd\n",
    "import numpy as np\n",
    "import matplotlib.pyplot as plt\n",
    "import seaborn as sns"
   ]
  },
  {
   "cell_type": "code",
   "execution_count": 3,
   "metadata": {},
   "outputs": [],
   "source": [
    "#Importing dataframe\n",
    "processed_df = pd.read_csv('data/processed_data/co2_country_year.csv')"
   ]
  },
  {
   "attachments": {},
   "cell_type": "markdown",
   "metadata": {},
   "source": [
    "Goals:\n",
    "\n",
    "The goal of this project is to identify trends in carbon dioxide emissions for countries with an average GDP, excluding major players like the US and China. By combining carbon emissions data with economic statistics such as GDP, population, household income, and unemployment rates, we aim to identify correlations and trends that can shed light on how these countries can address their carbon output. Specifically, we want to explore how countries with average GDP can reduce their carbon emissions and move towards a more sustainable future.\n",
    "\n",
    "By analyzing this dataset, we aim to gain insights into the relationship between carbon emissions and economic indicators and develop recommendations for addressing carbon emissions in countries with an average GDP."
   ]
  },
  {
   "cell_type": "code",
   "execution_count": null,
   "metadata": {},
   "outputs": [],
   "source": [
    "#Creating line plot for gdp by year for each country\n",
    "\n",
    "gdp_plot = processed_df.pivot_table(index = 'Year', columns='Country', values='GDP_per_cap')\n",
    "gdp_plot.plot(kind='line')\n",
    "plt.title('GDP By Country for the years 2011-2019')\n",
    "plt.xlabel('Year')\n",
    "plt.ylabel('GDP per Capita')"
   ]
  },
  {
   "cell_type": "code",
   "execution_count": null,
   "metadata": {},
   "outputs": [],
   "source": [
    "#Creating line plot for MTCO2 per cap by year for each country\n",
    "\n",
    "co2_plot = processed_df.pivot_table(index = 'Year', columns='Country', values='MTCO2_per_cap')\n",
    "co2_plot.plot(kind='line')\n",
    "plt.title('CO2 per capita By Country for the years 2011-2019')\n",
    "plt.xlabel('Year')\n",
    "plt.ylabel('CO2 per Capita')"
   ]
  }
 ],
 "metadata": {
  "kernelspec": {
   "display_name": "Python 3",
   "language": "python",
   "name": "python3"
  },
  "language_info": {
   "codemirror_mode": {
    "name": "ipython",
    "version": 3
   },
   "file_extension": ".py",
   "mimetype": "text/x-python",
   "name": "python",
   "nbconvert_exporter": "python",
   "pygments_lexer": "ipython3",
   "version": "3.9.13"
  },
  "orig_nbformat": 4
 },
 "nbformat": 4,
 "nbformat_minor": 2
}
